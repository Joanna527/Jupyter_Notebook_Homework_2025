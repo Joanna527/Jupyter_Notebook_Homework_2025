{
  "metadata": {
    "kernelspec": {
      "name": "python",
      "display_name": "Python (Pyodide)",
      "language": "python"
    },
    "language_info": {
      "codemirror_mode": {
        "name": "python",
        "version": 3
      },
      "file_extension": ".py",
      "mimetype": "text/x-python",
      "name": "python",
      "nbconvert_exporter": "python",
      "pygments_lexer": "ipython3",
      "version": "3.8"
    }
  },
  "nbformat_minor": 5,
  "nbformat": 4,
  "cells": [
    {
      "id": "b556c053-cfb1-4dbc-87c7-1bdda98dbcaf",
      "cell_type": "code",
      "source": "# Jupyter Homework – Asia Rutkowska\n\nNotebook przygotowany w ramach zajęć AcWr 2025. 😊\n",
      "metadata": {
        "trusted": true
      },
      "outputs": [],
      "execution_count": null
    },
    {
      "id": "32dac729-53ac-444c-aeda-c02abfd08d43",
      "cell_type": "code",
      "source": "print(\"Hello Jupyter!\")  \n",
      "metadata": {
        "trusted": true
      },
      "outputs": [],
      "execution_count": null
    }
  ]
}