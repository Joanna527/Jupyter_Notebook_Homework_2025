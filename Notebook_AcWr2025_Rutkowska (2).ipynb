{
  "metadata": {
    "kernelspec": {
      "name": "xpython",
      "display_name": "Python 3.13 (XPython)",
      "language": "python"
    },
    "language_info": {
      "file_extension": ".py",
      "mimetype": "text/x-python",
      "name": "python",
      "version": "3.13.1"
    }
  },
  "nbformat_minor": 5,
  "nbformat": 4,
  "cells": [
    {
      "id": "6e2e076c-e948-4c62-972a-3040a99b3d0c",
      "cell_type": "markdown",
      "source": "# Readability of NATO Military Documents for Non-Aviation Personnel\n\n## Introduction\n\nThis notebook presents an exploratory readability analysis of official NATO air-to-air refuelling (AAR) documents. The aim is to assess whether the language used in these materials is accessible to non-aviation personnel, such as logisticians, allied staff officers, and military translators. Clear and effective communication in joint operations is essential, and this research addresses a gap between doctrinal precision and textual accessibility.\n\n## Background\n\nAir-to-air refuelling (AAR) is a complex yet routine military operation governed by NATO doctrines such as **ATP-3.3.4.5** and its supplements. These documents are produced by specialized planning cells and are often dense in technical language. The research draws on excerpts from the following official sources retrieved from the [Allied Air Command JAPCC AAR Repository](https://coi.japcc.org/aar/#srd):\n\n- ATP-3.3.4.5 – AAR Operations\n- ATP-3.3.4.5(A) – Supplement for Planning\n- JAPCC Guidance Paper on Refuelling Coordination\n\nThe following readability metrics were used:\n\n- **Flesch Reading Ease**\n- **Gunning Fog Index**\n- **SMOG Index**\n\n## Visual Example\n\n![NATO Tanker Refuelling Operation](KC135_refueling.jpg)  \n*Source: KC-135 refuelling E-8 JSTARS – U.S. Air Force*\n\nThis aircraft is one of many used in NATO-standard refuelling operations. Such procedures are described in detail within documents like ATP-3.3.4.5.\n\n## Project Workflow\n\n1. Introduction and research motivation  \n2. NATO doctrine excerpt presentation  \n3. Text tokenization and analysis in Python  \n4. Calculation of readability indices  \n5. Bar chart visualization of the results  \n\n---\n\n## Tools and Libraries Used\n\n- `textstat` – for calculating readability scores  \n- `pandas` – for processing the extracted text  \n- `matplotlib` – for plotting the results  \n- `re` and `string` – for preprocessing  \n\n---\n\n## Sample Code (Python)\n\n```python\nimport textstat\n\ndoc_text = \"\"\"Air-to-air refuelling (AAR) is the process of transferring fuel from one aircraft (the tanker) to another (the receiver) during flight. The procedure is essential for extended NATO operations.\"\"\"\n\nprint(\"Flesch Reading Ease:\", textstat.flesch_reading_ease(doc_text))\nprint(\"Gunning Fog Index:\", textstat.gunning_fog(doc_text))\nprint(\"SMOG Index:\", textstat.smog_index(doc_text))\n",
      "metadata": {
        "jp-MarkdownHeadingCollapsed": true
      }
    },
    {
      "id": "e126d5a8-9350-4a5e-9313-f9095ad67659",
      "cell_type": "code",
      "source": "",
      "metadata": {
        "trusted": true
      },
      "outputs": [],
      "execution_count": null
    },
    {
      "id": "2fb0af2e-ebbf-46fb-8446-d93c9558c3b4",
      "cell_type": "code",
      "source": "",
      "metadata": {
        "trusted": true
      },
      "outputs": [],
      "execution_count": null
    }
  ]
}